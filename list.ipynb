{
  "nbformat": 4,
  "nbformat_minor": 0,
  "metadata": {
    "colab": {
      "private_outputs": true,
      "provenance": []
    },
    "kernelspec": {
      "name": "python3",
      "display_name": "Python 3"
    },
    "language_info": {
      "name": "python"
    }
  },
  "cells": [
    {
      "cell_type": "markdown",
      "source": [
        "# List\n",
        "* It is a built in data structure used to store a collection of items. it can hole element of different data types\n",
        "\n",
        "* it is a data type where you can store multiple items under 1 name list act like dynamic arrays which means you can add more items on fly\n",
        "\n",
        "\n",
        "## Array Vs Lists\n",
        "- Fixed Vs Dynamic Size\n",
        "- Convenience -> Hetrogeneous -> instance of storing value it store reference of address of value\n",
        "- Speed of Execution\n",
        "- Memory"
      ],
      "metadata": {
        "id": "znoWV9w86tea"
      }
    },
    {
      "cell_type": "code",
      "execution_count": null,
      "metadata": {
        "id": "pS6XA-qE6ifF"
      },
      "outputs": [],
      "source": [
        "a = 2\n",
        "b = 's'\n",
        "l = [1,2,3,'s']\n",
        "\n",
        "print(id(l[0]))\n",
        "print(id(l[1]))\n",
        "print(id(l[2]))\n",
        "print(id(l[3]))\n",
        "print(id(b))\n",
        "print(id(2))"
      ]
    },
    {
      "cell_type": "markdown",
      "source": [
        "#Characterstics of list\n",
        "\n",
        "* Ordered\n",
        "* Changeble/Mutable\n",
        "* Hetrogeneous\n",
        "* Can have duplicates\n",
        "* are dynamic\n",
        "* can be nested\n",
        "* items can be accessed\n",
        "* can contain any kind of objects in python"
      ],
      "metadata": {
        "id": "v9ScvskaZ8yc"
      }
    },
    {
      "cell_type": "code",
      "source": [
        "l = [1,2,3]\n",
        "l2 = [3,2,1]\n",
        "l==l2\n",
        "# order matter in list"
      ],
      "metadata": {
        "id": "EFIzROlBajMf"
      },
      "execution_count": null,
      "outputs": []
    },
    {
      "cell_type": "markdown",
      "source": [
        "## Creating List"
      ],
      "metadata": {
        "id": "W_dU5Z_MEtya"
      }
    },
    {
      "cell_type": "code",
      "source": [
        "# empty list\n",
        "print([])\n",
        "# 1d\n",
        "print([1])\n",
        "# 2d\n",
        "print([[1],[2]])\n",
        "# 3d\n",
        "print([[[1,2],[3,4]],[[5,6],[7,8]]])"
      ],
      "metadata": {
        "id": "dvOq9RhvEyzX"
      },
      "execution_count": null,
      "outputs": []
    },
    {
      "cell_type": "markdown",
      "source": [
        "##Adding ittems to a List"
      ],
      "metadata": {
        "id": "vWGbcy_iLRHK"
      }
    },
    {
      "cell_type": "code",
      "source": [
        "# append() method add only one element at a time in a list\n",
        "l = [1,2,3]\n",
        "l.append(4)\n",
        "print(l)"
      ],
      "metadata": {
        "id": "peFYVPXfLWfP"
      },
      "execution_count": null,
      "outputs": []
    },
    {
      "cell_type": "code",
      "source": [
        "# extend() thid method add multiple values at a time in list\n",
        "l = [1,2,3]\n",
        "l.extend([4,5,6])\n",
        "print(l)"
      ],
      "metadata": {
        "id": "j4jG3se4LqrB"
      },
      "execution_count": null,
      "outputs": []
    },
    {
      "cell_type": "code",
      "source": [
        "# insert() this method add a value on the desire position by providing index possition\n",
        "l = [1,2,3]\n",
        "l.insert(0,11)\n",
        "print(l)"
      ],
      "metadata": {
        "id": "uaz54C9aL6-7"
      },
      "execution_count": null,
      "outputs": []
    },
    {
      "cell_type": "markdown",
      "source": [
        "##Editing items in a List"
      ],
      "metadata": {
        "id": "EqjQ4ZRNMzre"
      }
    },
    {
      "cell_type": "code",
      "source": [
        "l = [1,2,3,4,5]\n",
        "# editing by indexing\n",
        "l[-1] = 6\n",
        "print(l)\n",
        "\n",
        "# editing by slicing\n",
        "l[2:-1] = 300,400,500\n",
        "print(l)"
      ],
      "metadata": {
        "id": "sH-KFayzTW56"
      },
      "execution_count": null,
      "outputs": []
    },
    {
      "cell_type": "markdown",
      "source": [
        "## Deleting items in List"
      ],
      "metadata": {
        "id": "-CNs6HmDY4st"
      }
    },
    {
      "cell_type": "code",
      "source": [
        "# del\n",
        "\n",
        "l= [1,2,3,4,5]\n",
        "print(l)\n",
        "del l\n",
        "print(l)"
      ],
      "metadata": {
        "id": "-B0cTjBNTyZh"
      },
      "execution_count": null,
      "outputs": []
    },
    {
      "cell_type": "code",
      "source": [
        "l= [1,2,3,4,5]\n",
        "# deleting last element in list\n",
        "del l[-1]\n",
        "print(l)"
      ],
      "metadata": {
        "id": "pDLTeZXPZQIK"
      },
      "execution_count": null,
      "outputs": []
    },
    {
      "cell_type": "code",
      "source": [
        "l= [1,2,3,4,5]\n",
        "# deleting by slicing\n",
        "\n",
        "del l[1:4]\n",
        "print(l)"
      ],
      "metadata": {
        "id": "QG7VWbvDZiJA"
      },
      "execution_count": null,
      "outputs": []
    },
    {
      "cell_type": "markdown",
      "source": [
        "Remove()\n",
        "* it is method of list datatype\n",
        "* it remove items by value\n",
        "* it is used to  remove the 1st occurrence of specified value from the list"
      ],
      "metadata": {
        "id": "PbzKpvedaiFi"
      }
    },
    {
      "cell_type": "code",
      "source": [
        "# remove()\n",
        "l= [1,2,3,4,5]\n",
        "# removing element 5 by providing value\n",
        "l.remove(5)\n",
        "print(l)"
      ],
      "metadata": {
        "id": "xOU5Kf9ea5-2"
      },
      "execution_count": null,
      "outputs": []
    },
    {
      "cell_type": "markdown",
      "source": [
        "pop()\n",
        "* pop method in Python is used to remove and return an element from a specific position in a list"
      ],
      "metadata": {
        "id": "l19cwPWJc8mg"
      }
    },
    {
      "cell_type": "code",
      "source": [
        "# pop\n",
        "l= [1,2,3,4,5]\n",
        "x = l.pop(0)\n",
        "print(x)\n",
        "print(l)"
      ],
      "metadata": {
        "id": "DUVTe8_lcFg1"
      },
      "execution_count": null,
      "outputs": []
    },
    {
      "cell_type": "markdown",
      "source": [
        "## Operation in List\n",
        "  - Arithmetic\n",
        "  - Membership\n",
        "  - Loop"
      ],
      "metadata": {
        "id": "zuKl9L5geAsu"
      }
    },
    {
      "cell_type": "code",
      "source": [
        "# Arithmetic(+,*)\n",
        "l1 = [1,2,3]\n",
        "l2 = [4,5,6]\n",
        "\n",
        "# merge\n",
        "\n",
        "print(l1+l2)"
      ],
      "metadata": {
        "id": "nyR11Vn5eXt_"
      },
      "execution_count": null,
      "outputs": []
    },
    {
      "cell_type": "code",
      "source": [
        "# multiply\n",
        "print(l1*3)"
      ],
      "metadata": {
        "id": "K37kba-pes7U"
      },
      "execution_count": null,
      "outputs": []
    },
    {
      "cell_type": "markdown",
      "source": [
        "Membership"
      ],
      "metadata": {
        "id": "3CqhW6sxlL7S"
      }
    },
    {
      "cell_type": "code",
      "source": [
        "l1 = [1,2,3,4,5]\n",
        "l2 =[1,2,3,4,[5,6]]\n",
        "\n",
        "print(5 in l1)\n",
        "\n",
        "print(5 in l2)"
      ],
      "metadata": {
        "id": "uG4gvotpkvVo"
      },
      "execution_count": null,
      "outputs": []
    },
    {
      "cell_type": "markdown",
      "source": [
        "loops"
      ],
      "metadata": {
        "id": "TZsXvGOmlukC"
      }
    },
    {
      "cell_type": "code",
      "source": [
        "l1 = [1,2,3,4,5]\n",
        "l2 =[1,2,3,4,[5,6]]\n",
        "\n",
        "for i in l2:\n",
        "  print(i)\n",
        ""
      ],
      "metadata": {
        "id": "b4SrlmEClttJ"
      },
      "execution_count": null,
      "outputs": []
    },
    {
      "cell_type": "markdown",
      "source": [
        "## List function\n"
      ],
      "metadata": {
        "id": "8LXUJeUqs0kJ"
      }
    },
    {
      "cell_type": "code",
      "source": [
        "# universal function\n",
        "l=[2,1,5,7,0]\n",
        "print(len(l))\n",
        "print(min(l))\n",
        "print(max(l))\n",
        "print(sorted(l,reverse = True))"
      ],
      "metadata": {
        "id": "2AUMAKEDzzKL"
      },
      "execution_count": null,
      "outputs": []
    },
    {
      "cell_type": "markdown",
      "source": [
        "count()\n",
        "- it is a method of the list data type.\n",
        "- it is used to count thr number of occurrences of a specified valuue in a list"
      ],
      "metadata": {
        "id": "ExP0kJS1179_"
      }
    },
    {
      "cell_type": "code",
      "source": [
        "# count()\n",
        "l = [1,2,3,4,5,3,4,5,3,3,3]\n",
        "l.count(3)"
      ],
      "metadata": {
        "id": "bvmX_i6A0SXi"
      },
      "execution_count": null,
      "outputs": []
    },
    {
      "cell_type": "markdown",
      "source": [
        "index()\n",
        "- it is a method of list data type\n",
        "- it is used to find the index of the first occurrence specified value"
      ],
      "metadata": {
        "id": "cTL_4pzc2YI1"
      }
    },
    {
      "cell_type": "code",
      "source": [
        "l = [1,2,3,4,5,3,4,5,3,3,3]\n",
        "l.index(3)"
      ],
      "metadata": {
        "id": "ff8mGO4y211z"
      },
      "execution_count": null,
      "outputs": []
    },
    {
      "cell_type": "markdown",
      "source": [
        "reverse()\n",
        "- it is a method of list\n",
        "- it is used to reverse the order of element in a list\n",
        "- it change the original list"
      ],
      "metadata": {
        "id": "62Vqy0WT3Ah7"
      }
    },
    {
      "cell_type": "code",
      "source": [
        "l = [1,2,3,4,5,3,4,5,3,3,3]\n",
        "l.reverse()\n",
        "print(l)"
      ],
      "metadata": {
        "id": "1eCZZGYp3kql"
      },
      "execution_count": null,
      "outputs": []
    },
    {
      "cell_type": "markdown",
      "source": [
        "sort() Vs sorted()\n",
        "\n",
        "-"
      ],
      "metadata": {
        "id": "Tq_7DD9h3wmO"
      }
    },
    {
      "cell_type": "code",
      "source": [
        "l = [4,6,7,2,8]\n",
        "\n",
        "print(l)\n",
        "print(sorted(l))\n",
        "print(l)\n",
        "l.sort() # it is a permanent sort the list\n",
        "print(l)"
      ],
      "metadata": {
        "id": "MPOtpwWk3wMy"
      },
      "execution_count": null,
      "outputs": []
    },
    {
      "cell_type": "code",
      "source": [
        "# copy -> shallow in new address it create the new list\n",
        "l = [2,5,3,7,6]\n",
        "print(l)\n",
        "print(id(l))\n",
        "l1= l.copy()\n",
        "print(l1)\n",
        "print(id(l1))"
      ],
      "metadata": {
        "id": "Xt_Jo-Ik5HRZ"
      },
      "execution_count": null,
      "outputs": []
    },
    {
      "cell_type": "markdown",
      "source": [
        "## List Comprehension\n",
        "newlist = [expression for items in iterable if condition == True]"
      ],
      "metadata": {
        "id": "W_78ByA668hC"
      }
    },
    {
      "cell_type": "code",
      "source": [
        "[i for i in range(1,11)]"
      ],
      "metadata": {
        "id": "ZnufW9ol7T3Q"
      },
      "execution_count": null,
      "outputs": []
    },
    {
      "cell_type": "code",
      "source": [
        "# scalar multiplication of vector\n",
        "[i*-3 for i in range(1,11)]"
      ],
      "metadata": {
        "id": "ZmzFqX797qLD"
      },
      "execution_count": null,
      "outputs": []
    },
    {
      "cell_type": "code",
      "source": [
        "[i**2 for i in range(1,6)]"
      ],
      "metadata": {
        "id": "UFQs2_9m8jtb"
      },
      "execution_count": null,
      "outputs": []
    },
    {
      "cell_type": "code",
      "source": [
        "# print all the number dividible by 5 in the range of 1 to 50\n",
        "[i for i in range(1,51) if i %5==0]"
      ],
      "metadata": {
        "id": "pLCK2nRP8rAq"
      },
      "execution_count": null,
      "outputs": []
    },
    {
      "cell_type": "code",
      "source": [
        "# find languages which start with letter p\n",
        "lang = ['java','python','php','c','javascript']\n",
        "\n",
        "[i for i in lang if i.startswith('p')]"
      ],
      "metadata": {
        "id": "aeWAj1oh9Sbm"
      },
      "execution_count": null,
      "outputs": []
    },
    {
      "cell_type": "code",
      "source": [
        "# nested if with list comprehension\n",
        "basket = ['apple','guava','cherry','banana']\n",
        "my_fruits = ['apple','kiwi','grapes','banana']\n",
        "\n",
        "[i for i in basket if i in my_fruits  if i.startswith('a')]"
      ],
      "metadata": {
        "id": "lv2XkNVG-LWB"
      },
      "execution_count": null,
      "outputs": []
    },
    {
      "cell_type": "code",
      "source": [
        "# print a (3,3) matrix using list comprehension -> nested list comprehension\n",
        "\n",
        "[[i*j for i in range(1,6)] for j in range(1,6)]"
      ],
      "metadata": {
        "id": "4Qs2Slec_VuQ"
      },
      "execution_count": null,
      "outputs": []
    },
    {
      "cell_type": "code",
      "source": [
        "# cartesian product -> comprehension on 2 list together\n",
        "\n",
        "l1=[1,2,3,4]\n",
        "l2=[5,6,7,8]\n",
        "\n",
        "[i * j for i in l1 for j in l2 ]"
      ],
      "metadata": {
        "id": "gKKOJSXZ_5Pf"
      },
      "execution_count": null,
      "outputs": []
    },
    {
      "cell_type": "markdown",
      "source": [
        "## 2 way to traverse a list\n",
        "- itemwise\n",
        "- indexwise"
      ],
      "metadata": {
        "id": "-zAKaPH8AjVQ"
      }
    },
    {
      "cell_type": "code",
      "source": [
        "# itemwise\n",
        "l = [1,2,3,4]\n",
        "\n",
        "for i in l:\n",
        "  print(i)"
      ],
      "metadata": {
        "id": "Nv3n2FzsAuZJ"
      },
      "execution_count": null,
      "outputs": []
    },
    {
      "cell_type": "code",
      "source": [
        "# indexwise\n",
        "l = [1,2,3,4]\n",
        "\n",
        "for i in range(0,len(l)):\n",
        "  print(i)"
      ],
      "metadata": {
        "id": "E0hRPUuoBASM"
      },
      "execution_count": null,
      "outputs": []
    },
    {
      "cell_type": "code",
      "source": [
        "l = [1,2,3,4,5]\n",
        "l2 = [5,4,3,2,1]\n",
        "list(zip(l,l2))\n",
        "\n",
        "[i+j for i,j in zip(l,l2) ]"
      ],
      "metadata": {
        "id": "ipKZc2j0BkH-"
      },
      "execution_count": null,
      "outputs": []
    }
  ]
}