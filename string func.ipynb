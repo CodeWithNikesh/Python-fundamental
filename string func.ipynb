{
 "cells": [
  {
   "cell_type": "markdown",
   "metadata": {},
   "source": [
    "#### How do you find the length of a string in Python without using len()?"
   ]
  },
  {
   "cell_type": "code",
   "execution_count": 2,
   "metadata": {},
   "outputs": [
    {
     "data": {
      "text/plain": [
       "6"
      ]
     },
     "execution_count": 2,
     "metadata": {},
     "output_type": "execute_result"
    }
   ],
   "source": [
    "def find_length(strings):\n",
    "    count = 0\n",
    "    for _ in strings:\n",
    "        count +=1\n",
    "    return count\n",
    "find_length('Nikesh')"
   ]
  },
  {
   "cell_type": "markdown",
   "metadata": {},
   "source": [
    "####  How do you convert a string to uppercase without using upper()?"
   ]
  },
  {
   "cell_type": "code",
   "execution_count": 3,
   "metadata": {},
   "outputs": [
    {
     "data": {
      "text/plain": [
       "'NIKESH'"
      ]
     },
     "execution_count": 3,
     "metadata": {},
     "output_type": "execute_result"
    }
   ],
   "source": [
    "def to_upper(alpha):\n",
    "    result = ''\n",
    "    for char in alpha:\n",
    "        if 'a' <= char <= 'z':\n",
    "            result += chr(ord(char) - 32)\n",
    "        else:\n",
    "            result += char\n",
    "    return result\n",
    "\n",
    "to_upper('nikesh')\n"
   ]
  },
  {
   "cell_type": "markdown",
   "metadata": {},
   "source": [
    "#### How do you convert a string to lowercase without using lower()?"
   ]
  },
  {
   "cell_type": "code",
   "execution_count": 4,
   "metadata": {},
   "outputs": [
    {
     "data": {
      "text/plain": [
       "'nikesh'"
      ]
     },
     "execution_count": 4,
     "metadata": {},
     "output_type": "execute_result"
    }
   ],
   "source": [
    "def to_lower(strings):\n",
    "    result = ''\n",
    "    for char in strings:\n",
    "        if 'A' <= char <= 'Z':\n",
    "            result += chr(ord(char) + 32)\n",
    "        else:\n",
    "            result += char\n",
    "    return result\n",
    "\n",
    "to_lower('NikeSH')"
   ]
  },
  {
   "cell_type": "markdown",
   "metadata": {},
   "source": [
    "#### How do you replace a substring in a string without using replace()?"
   ]
  },
  {
   "cell_type": "code",
   "execution_count": 23,
   "metadata": {},
   "outputs": [
    {
     "data": {
      "text/plain": [
       "'Hello Nikesh how are you'"
      ]
     },
     "execution_count": 23,
     "metadata": {},
     "output_type": "execute_result"
    }
   ],
   "source": [
    "def replace_strings(strings,old,new):\n",
    "    result = ''\n",
    "    i = 0\n",
    "    while i in range(len(strings)):\n",
    "        if strings[i:i+ len(old)]== old:\n",
    "            result +=new\n",
    "            i += len(old) \n",
    "        else:\n",
    "            result += strings[i]\n",
    "            i += 1\n",
    "    return result \n",
    "replace_strings('Hello python how are you','python','Nikesh')\n"
   ]
  },
  {
   "cell_type": "markdown",
   "metadata": {},
   "source": [
    "#### How do you check if a string starts with a certain substring without using startswith()?"
   ]
  },
  {
   "cell_type": "code",
   "execution_count": 30,
   "metadata": {},
   "outputs": [
    {
     "data": {
      "text/plain": [
       "True"
      ]
     },
     "execution_count": 30,
     "metadata": {},
     "output_type": "execute_result"
    }
   ],
   "source": [
    "def check_start_with(string,substring):\n",
    "    if len(substring) > len(string):\n",
    "        return False\n",
    "    for i in range(len(substring)):\n",
    "        if string[i] != substring[i]:\n",
    "            return False\n",
    "    return True\n",
    "check_start_with('Hello Nikesh','Hello')"
   ]
  },
  {
   "cell_type": "markdown",
   "metadata": {},
   "source": [
    "####  How do you check if a string ends with a certain substring without using endswith()?"
   ]
  },
  {
   "cell_type": "code",
   "execution_count": 4,
   "metadata": {},
   "outputs": [
    {
     "data": {
      "text/plain": [
       "True"
      ]
     },
     "execution_count": 4,
     "metadata": {},
     "output_type": "execute_result"
    }
   ],
   "source": [
    "def check_end_with(string,end_string):\n",
    "    if len(string) < len(end_string):\n",
    "        return False\n",
    "    start = len(string) - len(end_string)\n",
    "    for i in range(len(end_string)):\n",
    "        if string[start+i] != end_string[i]:\n",
    "            return False\n",
    "    return True\n",
    "\n",
    "check_end_with('Hello Nikesh','Nikesh')"
   ]
  },
  {
   "cell_type": "markdown",
   "metadata": {},
   "source": [
    "#### How do you split a string by spaces without using split()?"
   ]
  },
  {
   "cell_type": "code",
   "execution_count": 10,
   "metadata": {},
   "outputs": [
    {
     "data": {
      "text/plain": [
       "['Nikesh', 'Kumar', 'Singh']"
      ]
     },
     "execution_count": 10,
     "metadata": {},
     "output_type": "execute_result"
    }
   ],
   "source": [
    "def split_space(string):\n",
    "    result = []\n",
    "    word = ''\n",
    "    for char in string:\n",
    "        if char == ' ':\n",
    "            if word:\n",
    "                result.append(word)\n",
    "                word = ''\n",
    "        else:\n",
    "            word +=char\n",
    "    if word:\n",
    "        result.append(word)\n",
    "    return result\n",
    "\n",
    "split_space('Nikesh Kumar Singh')"
   ]
  },
  {
   "cell_type": "markdown",
   "metadata": {},
   "source": [
    "#### How do you join a list of strings into a single string without using join()?"
   ]
  },
  {
   "cell_type": "code",
   "execution_count": 17,
   "metadata": {},
   "outputs": [
    {
     "data": {
      "text/plain": [
       "'apple mango banana'"
      ]
     },
     "execution_count": 17,
     "metadata": {},
     "output_type": "execute_result"
    }
   ],
   "source": [
    "def join_string(words):\n",
    "    result = ''\n",
    "    for i in range(len(words)):\n",
    "        result += words[i]\n",
    "        if i < len(words) -1:\n",
    "            result += ' '\n",
    "    return result\n",
    "\n",
    "join_string(['apple mango banana'])"
   ]
  },
  {
   "cell_type": "markdown",
   "metadata": {},
   "source": [
    "#### How do you find the position of a substring in a string without using find()"
   ]
  },
  {
   "cell_type": "code",
   "execution_count": 18,
   "metadata": {},
   "outputs": [
    {
     "data": {
      "text/plain": [
       "4"
      ]
     },
     "execution_count": 18,
     "metadata": {},
     "output_type": "execute_result"
    }
   ],
   "source": [
    "def find_substring_position(string1,substring):\n",
    "    for i in range(len(string1)-len(substring)+1):\n",
    "        if string1[i:i + len(substring)] == substring:\n",
    "            return i\n",
    "    return -1\n",
    "\n",
    "find_substring_position('nikesh singh','sh')"
   ]
  },
  {
   "cell_type": "markdown",
   "metadata": {},
   "source": [
    "#### swap upper to lower and lower to upper"
   ]
  },
  {
   "cell_type": "code",
   "execution_count": 19,
   "metadata": {},
   "outputs": [
    {
     "data": {
      "text/plain": [
       "'nIKesH'"
      ]
     },
     "execution_count": 19,
     "metadata": {},
     "output_type": "execute_result"
    }
   ],
   "source": [
    "def swapcase(string):\n",
    "    result =''\n",
    "    for char in string:\n",
    "        if 'a' <= char <= 'z':\n",
    "            result += chr(ord(char)-32)\n",
    "        elif 'A' <= char <= 'Z':\n",
    "            result += chr(ord(char) + 32)\n",
    "        else:\n",
    "            result += char\n",
    "    return result\n",
    "\n",
    "swapcase('NikESh')"
   ]
  },
  {
   "cell_type": "markdown",
   "metadata": {},
   "source": [
    "####  Remove all spaces"
   ]
  },
  {
   "cell_type": "code",
   "execution_count": 2,
   "metadata": {},
   "outputs": [
    {
     "data": {
      "text/plain": [
       "'nikesh'"
      ]
     },
     "execution_count": 2,
     "metadata": {},
     "output_type": "execute_result"
    }
   ],
   "source": [
    "def remove_space(s):\n",
    "    result =''\n",
    "    for char in s:\n",
    "        if char != ' ':\n",
    "            result += char\n",
    "    return result\n",
    "\n",
    "remove_space('n i k e s h')"
   ]
  },
  {
   "cell_type": "code",
   "execution_count": 15,
   "metadata": {},
   "outputs": [
    {
     "data": {
      "text/plain": [
       "True"
      ]
     },
     "execution_count": 15,
     "metadata": {},
     "output_type": "execute_result"
    }
   ],
   "source": [
    "def start_with(string,startwith):\n",
    "    if len(startwith) > len(string):\n",
    "        return False\n",
    "    start = len(string)- len(startwith)\n",
    "    for i in range(len(startwith)):\n",
    "        if string[start+i] != startwith[i]:\n",
    "            return False\n",
    "    return True\n",
    "start_with('Hello nikesh','nikesh')"
   ]
  },
  {
   "cell_type": "markdown",
   "metadata": {},
   "source": [
    "#### Check if String is Numeric"
   ]
  },
  {
   "cell_type": "code",
   "execution_count": 27,
   "metadata": {},
   "outputs": [
    {
     "data": {
      "text/plain": [
       "True"
      ]
     },
     "execution_count": 27,
     "metadata": {},
     "output_type": "execute_result"
    }
   ],
   "source": [
    "def check_numeric(num):\n",
    "    numeric_string = str(num)\n",
    "    for char in numeric_string:\n",
    "        if not ('0' <= char <='9'):\n",
    "            return False\n",
    "    return True\n",
    "\n",
    "check_numeric(92768)"
   ]
  },
  {
   "cell_type": "markdown",
   "metadata": {},
   "source": [
    "#### Reverse a String"
   ]
  },
  {
   "cell_type": "code",
   "execution_count": 22,
   "metadata": {},
   "outputs": [
    {
     "data": {
      "text/plain": [
       "'nikesh'"
      ]
     },
     "execution_count": 22,
     "metadata": {},
     "output_type": "execute_result"
    }
   ],
   "source": [
    "def reverse_string(string1):\n",
    "    result = ''\n",
    "    for i in range(len(string1)-1,-1,-1):\n",
    "        result +=string1[i]\n",
    "    return result\n",
    "\n",
    "reverse_string('hsekin')"
   ]
  },
  {
   "cell_type": "markdown",
   "metadata": {},
   "source": [
    "#### Capitalize First Letter"
   ]
  },
  {
   "cell_type": "code",
   "execution_count": 24,
   "metadata": {},
   "outputs": [
    {
     "data": {
      "text/plain": [
       "'Nikesh singh'"
      ]
     },
     "execution_count": 24,
     "metadata": {},
     "output_type": "execute_result"
    }
   ],
   "source": [
    "def capitalize_first(string1):\n",
    "   if 'a' <= string1[0] <= 'z':\n",
    "      return chr(ord(string1[0])- 32) + string1[1:]\n",
    "\n",
    "capitalize_first('nikesh singh')"
   ]
  },
  {
   "cell_type": "code",
   "execution_count": null,
   "metadata": {},
   "outputs": [],
   "source": []
  },
  {
   "cell_type": "markdown",
   "metadata": {},
   "source": []
  }
 ],
 "metadata": {
  "kernelspec": {
   "display_name": "Python 3",
   "language": "python",
   "name": "python3"
  },
  "language_info": {
   "codemirror_mode": {
    "name": "ipython",
    "version": 3
   },
   "file_extension": ".py",
   "mimetype": "text/x-python",
   "name": "python",
   "nbconvert_exporter": "python",
   "pygments_lexer": "ipython3",
   "version": "3.13.0"
  }
 },
 "nbformat": 4,
 "nbformat_minor": 2
}
