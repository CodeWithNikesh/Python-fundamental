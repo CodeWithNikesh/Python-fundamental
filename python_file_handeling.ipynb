{
  "nbformat": 4,
  "nbformat_minor": 0,
  "metadata": {
    "colab": {
      "provenance": [],
      "authorship_tag": "ABX9TyNW2Vk5FJ92La08DTc3C9y/",
      "include_colab_link": true
    },
    "kernelspec": {
      "name": "python3",
      "display_name": "Python 3"
    },
    "language_info": {
      "name": "python"
    }
  },
  "cells": [
    {
      "cell_type": "markdown",
      "metadata": {
        "id": "view-in-github",
        "colab_type": "text"
      },
      "source": [
        "<a href=\"https://colab.research.google.com/github/nikesh11xx/Python-fundamental/blob/main/python_file_handeling.ipynb\" target=\"_parent\"><img src=\"https://colab.research.google.com/assets/colab-badge.svg\" alt=\"Open In Colab\"/></a>"
      ]
    },
    {
      "cell_type": "markdown",
      "source": [
        "# writinng to a file"
      ],
      "metadata": {
        "id": "C8zxtVyKa0Ph"
      }
    },
    {
      "cell_type": "code",
      "execution_count": 1,
      "metadata": {
        "id": "ioeDqJpqXYMn"
      },
      "outputs": [],
      "source": [
        "# case 1. if the file  is  not present\n",
        "\n",
        "f = open('sample.txt','w')\n",
        "f.write('Hello world')\n",
        "# closing the file after close we cann't write\n",
        "f.close()"
      ]
    },
    {
      "cell_type": "code",
      "source": [
        "# write a multiple line strinng\n",
        "\n",
        "f = open('sample1.txt','w')\n",
        "f.write('Hello world')\n",
        "f.write('\\nhow are you?')\n",
        "f.close()"
      ],
      "metadata": {
        "id": "FALbzGOScyT8"
      },
      "execution_count": 20,
      "outputs": []
    },
    {
      "cell_type": "code",
      "source": [
        "#  case 2 if file is already present\n",
        "f = open('sample.txt','w')\n",
        "f.write('Nikesh singh')\n",
        "f.close()"
      ],
      "metadata": {
        "id": "NeA7ix4BdqKr"
      },
      "execution_count": 21,
      "outputs": []
    },
    {
      "cell_type": "code",
      "source": [
        "#  how exactly open() works\n"
      ],
      "metadata": {
        "id": "ZwdnjoozeJTj"
      },
      "execution_count": 22,
      "outputs": []
    },
    {
      "cell_type": "code",
      "source": [
        "f = open('sample1.txt','a') # a is append mode\n",
        "f.write('\\nI am fine')\n",
        "f.close()"
      ],
      "metadata": {
        "id": "fEjS6ssKe8B9"
      },
      "execution_count": 23,
      "outputs": []
    },
    {
      "cell_type": "code",
      "source": [
        "l = ['hello\\n','hi\\n', 'how are you\\n','i am fine\\n']\n",
        "\n",
        "f = open('sample1.txt','a')\n",
        "f.writelines(l)\n",
        "f.close()"
      ],
      "metadata": {
        "id": "zeB5ISxqfVWV"
      },
      "execution_count": 24,
      "outputs": []
    },
    {
      "cell_type": "markdown",
      "source": [
        "## Reading from files"
      ],
      "metadata": {
        "id": "JRviatN1gHpr"
      }
    },
    {
      "cell_type": "code",
      "source": [
        "# reading from files\n",
        "f = open(r'/content/sample1.txt','r')\n",
        "s = f.read()\n",
        "print(s)\n",
        "f.close()"
      ],
      "metadata": {
        "id": "zfGz-tTEgMlf",
        "colab": {
          "base_uri": "https://localhost:8080/"
        },
        "outputId": "73608e5e-5011-4117-ec3f-bf70ce017f4e"
      },
      "execution_count": 8,
      "outputs": [
        {
          "output_type": "stream",
          "name": "stdout",
          "text": [
            "Hello world\n",
            "how are you?\n",
            "I am finehello\n",
            "hi\n",
            "how are you\n",
            "i am fine\n",
            "\n"
          ]
        }
      ]
    },
    {
      "cell_type": "code",
      "source": [
        "# read upto chars\n",
        "f = open(r'/content/sample1.txt','r')\n",
        "s = f.read(10)\n",
        "print(s)\n",
        "f.close()"
      ],
      "metadata": {
        "colab": {
          "base_uri": "https://localhost:8080/"
        },
        "id": "GbOThJmriVYS",
        "outputId": "6dafa8eb-b9ee-4c66-89f4-e47342adf49c"
      },
      "execution_count": 9,
      "outputs": [
        {
          "output_type": "stream",
          "name": "stdout",
          "text": [
            "Hello worl\n"
          ]
        }
      ]
    },
    {
      "cell_type": "code",
      "source": [
        "# readline\n",
        "f = open(r'/content/sample1.txt','r')\n",
        "s = f.readline()\n",
        "print(s)"
      ],
      "metadata": {
        "colab": {
          "base_uri": "https://localhost:8080/"
        },
        "id": "TVXLWi12ikXt",
        "outputId": "a18ef344-3d38-4515-831c-3dcce8088e68"
      },
      "execution_count": 10,
      "outputs": [
        {
          "output_type": "stream",
          "name": "stdout",
          "text": [
            "Hello world\n",
            "\n"
          ]
        }
      ]
    },
    {
      "cell_type": "code",
      "source": [
        "# read entire using readline\n",
        "f = open(r'/content/sample1.txt','r')\n",
        "while True:\n",
        "  data =f.readline()\n",
        "  if data == '':\n",
        "    break\n",
        "  else:\n",
        "    print(data,end='')\n",
        "f.close()"
      ],
      "metadata": {
        "colab": {
          "base_uri": "https://localhost:8080/"
        },
        "id": "O9pad6Eji9lG",
        "outputId": "74e11c52-8aa7-4919-cc5a-febbea556436"
      },
      "execution_count": 14,
      "outputs": [
        {
          "output_type": "stream",
          "name": "stdout",
          "text": [
            "Hello world\n",
            "how are you?\n",
            "I am finehello\n",
            "hi\n",
            "how are you\n",
            "i am fine\n"
          ]
        }
      ]
    },
    {
      "cell_type": "code",
      "source": [
        "f = open(r'/content/sample1.txt','r')\n",
        "while  True:\n",
        "  data = f.readline()\n",
        "  if data  =='':\n",
        "    break\n",
        "  else:\n",
        "    print(data,end='')\n",
        "f.close()"
      ],
      "metadata": {
        "colab": {
          "base_uri": "https://localhost:8080/"
        },
        "id": "Xk00ID7AkYqp",
        "outputId": "94c9f384-93b3-4c25-9965-40ded1337b94"
      },
      "execution_count": 16,
      "outputs": [
        {
          "output_type": "stream",
          "name": "stdout",
          "text": [
            "Hello world\n",
            "how are you?\n",
            "I am finehello\n",
            "hi\n",
            "how are you\n",
            "i am fine\n"
          ]
        }
      ]
    },
    {
      "cell_type": "markdown",
      "source": [
        "## Using Context Manager (with)\n",
        "- it's a good idea to close a file after usage as it will free up the resources\n",
        "- if we dont close it, garbage collector would would close it\n",
        "- with keyword close the file as soon as the usage is over"
      ],
      "metadata": {
        "id": "v0LQkZPMlLel"
      }
    },
    {
      "cell_type": "code",
      "source": [
        "# with\n",
        "with open(r'/content/sample1.txt','w') as f:\n",
        "  f.write('Hello nikesh')"
      ],
      "metadata": {
        "id": "NlynLG5ilt9z"
      },
      "execution_count": 18,
      "outputs": []
    },
    {
      "cell_type": "code",
      "source": [
        "# try f.read\n",
        "with open(r'/content/sample1.txt','r') as f:\n",
        "  print(f.read())"
      ],
      "metadata": {
        "colab": {
          "base_uri": "https://localhost:8080/"
        },
        "id": "PfRbV28fmMN6",
        "outputId": "ed9ca93c-430a-417b-a5bd-99d3bf3d9c91"
      },
      "execution_count": 25,
      "outputs": [
        {
          "output_type": "stream",
          "name": "stdout",
          "text": [
            "Hello world\n",
            "how are you?\n",
            "I am finehello\n",
            "hi\n",
            "how are you\n",
            "i am fine\n",
            "\n"
          ]
        }
      ]
    },
    {
      "cell_type": "code",
      "source": [
        "#  moving within a file 10 char than 10  char\n",
        "with open(r'/content/sample1.txt','r') as f:\n",
        "  print(f.read(10))\n",
        "  print(f.read(10))"
      ],
      "metadata": {
        "colab": {
          "base_uri": "https://localhost:8080/"
        },
        "id": "O2Em6ndAmiGL",
        "outputId": "6735be56-e43b-491a-ebc2-ed34839628ed"
      },
      "execution_count": 26,
      "outputs": [
        {
          "output_type": "stream",
          "name": "stdout",
          "text": [
            "Hello worl\n",
            "d\n",
            "how are \n"
          ]
        }
      ]
    },
    {
      "cell_type": "code",
      "source": [
        "big_l = ['hello world ' for i  in range(10000)]\n",
        "\n",
        "with open('big.txt','w') as f:\n",
        "  f.writelines(big_l)"
      ],
      "metadata": {
        "id": "N2gGYn0nnZPj"
      },
      "execution_count": 27,
      "outputs": []
    },
    {
      "cell_type": "code",
      "source": [
        "with open('big.txt','r') as f:\n",
        "  chunk_size =100\n",
        "  while len(f.read(chunk_size))> 0:\n",
        "    print(f.read(chunk_size),end='')\n",
        "    f.read(chunk_size)"
      ],
      "metadata": {
        "colab": {
          "base_uri": "https://localhost:8080/"
        },
        "id": "oLXpDsfanxqT",
        "outputId": "88f91bcb-31bf-4446-d0b9-246f17839066"
      },
      "execution_count": 32,
      "outputs": [
        {
          "output_type": "stream",
          "name": "stdout",
          "text": [
            "o world hello world hello world hello world hello world hello world hello world hello world hello woo world hello world hello world hello world hello world hello world hello world hello world hello woo world hello world hello world hello world hello world hello world hello world hello world hello woo world hello world hello world hello world hello world hello world hello world hello world hello woo world hello world hello world hello world hello world hello world hello world hello world hello woo world hello world hello world hello world hello world hello world hello world hello world hello woo world hello world hello world hello world hello world hello world hello world hello world hello woo world hello world hello world hello world hello world hello world hello world hello world hello woo world hello world hello world hello world hello world hello world hello world hello world hello woo world hello world hello world hello world hello world hello world hello world hello world hello woo world hello world hello world hello world hello world hello world hello world hello world hello woo world hello world hello world hello world hello world hello world hello world hello world hello woo world hello world hello world hello world hello world hello world hello world hello world hello woo world hello world hello world hello world hello world hello world hello world hello world hello woo world hello world hello world hello world hello world hello world hello world hello world hello woo world hello world hello world hello world hello world hello world hello world hello world hello woo world hello world hello world hello world hello world hello world hello world hello world hello woo world hello world hello world hello world hello world hello world hello world hello world hello woo world hello world hello world hello world hello world hello world hello world hello world hello woo world hello world hello world hello world hello world hello world hello world hello world hello woo world hello world hello world hello world hello world hello world hello world hello world hello woo world hello world hello world hello world hello world hello world hello world hello world hello woo world hello world hello world hello world hello world hello world hello world hello world hello woo world hello world hello world hello world hello world hello world hello world hello world hello woo world hello world hello world hello world hello world hello world hello world hello world hello woo world hello world hello world hello world hello world hello world hello world hello world hello woo world hello world hello world hello world hello world hello world hello world hello world hello woo world hello world hello world hello world hello world hello world hello world hello world hello woo world hello world hello world hello world hello world hello world hello world hello world hello woo world hello world hello world hello world hello world hello world hello world hello world hello woo world hello world hello world hello world hello world hello world hello world hello world hello woo world hello world hello world hello world hello world hello world hello world hello world hello woo world hello world hello world hello world hello world hello world hello world hello world hello woo world hello world hello world hello world hello world hello world hello world hello world hello woo world hello world hello world hello world hello world hello world hello world hello world hello woo world hello world hello world hello world hello world hello world hello world hello world hello woo world hello world hello world hello world hello world hello world hello world hello world hello woo world hello world hello world hello world hello world hello world hello world hello world hello woo world hello world hello world hello world hello world hello world hello world hello world hello woo world hello world hello world hello world hello world hello world hello world hello world hello woo world hello world hello world hello world hello world hello world hello world hello world hello woo world hello world hello world hello world hello world hello world hello world hello world hello woo world hello world hello world hello world hello world hello world hello world hello world hello woo world hello world hello world hello world hello world hello world hello world hello world hello woo world hello world hello world hello world hello world hello world hello world hello world hello woo world hello world hello world hello world hello world hello world hello world hello world hello woo world hello world hello world hello world hello world hello world hello world hello world hello woo world hello world hello world hello world hello world hello world hello world hello world hello woo world hello world hello world hello world hello world hello world hello world hello world hello woo world hello world hello world hello world hello world hello world hello world hello world hello woo world hello world hello world hello world hello world hello world hello world hello world hello woo world hello world hello world hello world hello world hello world hello world hello world hello woo world hello world hello world hello world hello world hello world hello world hello world hello woo world hello world hello world hello world hello world hello world hello world hello world hello woo world hello world hello world hello world hello world hello world hello world hello world hello woo world hello world hello world hello world hello world hello world hello world hello world hello woo world hello world hello world hello world hello world hello world hello world hello world hello woo world hello world hello world hello world hello world hello world hello world hello world hello woo world hello world hello world hello world hello world hello world hello world hello world hello woo world hello world hello world hello world hello world hello world hello world hello world hello woo world hello world hello world hello world hello world hello world hello world hello world hello woo world hello world hello world hello world hello world hello world hello world hello world hello woo world hello world hello world hello world hello world hello world hello world hello world hello woo world hello world hello world hello world hello world hello world hello world hello world hello woo world hello world hello world hello world hello world hello world hello world hello world hello woo world hello world hello world hello world hello world hello world hello world hello world hello woo world hello world hello world hello world hello world hello world hello world hello world hello woo world hello world hello world hello world hello world hello world hello world hello world hello woo world hello world hello world hello world hello world hello world hello world hello world hello woo world hello world hello world hello world hello world hello world hello world hello world hello woo world hello world hello world hello world hello world hello world hello world hello world hello woo world hello world hello world hello world hello world hello world hello world hello world hello woo world hello world hello world hello world hello world hello world hello world hello world hello woo world hello world hello world hello world hello world hello world hello world hello world hello woo world hello world hello world hello world hello world hello world hello world hello world hello woo world hello world hello world hello world hello world hello world hello world hello world hello woo world hello world hello world hello world hello world hello world hello world hello world hello woo world hello world hello world hello world hello world hello world hello world hello world hello woo world hello world hello world hello world hello world hello world hello world hello world hello woo world hello world hello world hello world hello world hello world hello world hello world hello woo world hello world hello world hello world hello world hello world hello world hello world hello woo world hello world hello world hello world hello world hello world hello world hello world hello woo world hello world hello world hello world hello world hello world hello world hello world hello woo world hello world hello world hello world hello world hello world hello world hello world hello woo world hello world hello world hello world hello world hello world hello world hello world hello woo world hello world hello world hello world hello world hello world hello world hello world hello woo world hello world hello world hello world hello world hello world hello world hello world hello woo world hello world hello world hello world hello world hello world hello world hello world hello woo world hello world hello world hello world hello world hello world hello world hello world hello woo world hello world hello world hello world hello world hello world hello world hello world hello woo world hello world hello world hello world hello world hello world hello world hello world hello woo world hello world hello world hello world hello world hello world hello world hello world hello woo world hello world hello world hello world hello world hello world hello world hello world hello woo world hello world hello world hello world hello world hello world hello world hello world hello woo world hello world hello world hello world hello world hello world hello world hello world hello woo world hello world hello world hello world hello world hello world hello world hello world hello woo world hello world hello world hello world hello world hello world hello world hello world hello woo world hello world hello world hello world hello world hello world hello world hello world hello woo world hello world hello world hello world hello world hello world hello world hello world hello woo world hello world hello world hello world hello world hello world hello world hello world hello woo world hello world hello world hello world hello world hello world hello world hello world hello woo world hello world hello world hello world hello world hello world hello world hello world hello woo world hello world hello world hello world hello world hello world hello world hello world hello woo world hello world hello world hello world hello world hello world hello world hello world hello woo world hello world hello world hello world hello world hello world hello world hello world hello woo world hello world hello world hello world hello world hello world hello world hello world hello woo world hello world hello world hello world hello world hello world hello world hello world hello woo world hello world hello world hello world hello world hello world hello world hello world hello woo world hello world hello world hello world hello world hello world hello world hello world hello woo world hello world hello world hello world hello world hello world hello world hello world hello woo world hello world hello world hello world hello world hello world hello world hello world hello woo world hello world hello world hello world hello world hello world hello world hello world hello woo world hello world hello world hello world hello world hello world hello world hello world hello woo world hello world hello world hello world hello world hello world hello world hello world hello woo world hello world hello world hello world hello world hello world hello world hello world hello woo world hello world hello world hello world hello world hello world hello world hello world hello woo world hello world hello world hello world hello world hello world hello world hello world hello woo world hello world hello world hello world hello world hello world hello world hello world hello woo world hello world hello world hello world hello world hello world hello world hello world hello woo world hello world hello world hello world hello world hello world hello world hello world hello woo world hello world hello world hello world hello world hello world hello world hello world hello woo world hello world hello world hello world hello world hello world hello world hello world hello woo world hello world hello world hello world hello world hello world hello world hello world hello woo world hello world hello world hello world hello world hello world hello world hello world hello woo world hello world hello world hello world hello world hello world hello world hello world hello woo world hello world hello world hello world hello world hello world hello world hello world hello woo world hello world hello world hello world hello world hello world hello world hello world hello woo world hello world hello world hello world hello world hello world hello world hello world hello woo world hello world hello world hello world hello world hello world hello world hello world hello woo world hello world hello world hello world hello world hello world hello world hello world hello woo world hello world hello world hello world hello world hello world hello world hello world hello woo world hello world hello world hello world hello world hello world hello world hello world hello woo world hello world hello world hello world hello world hello world hello world hello world hello woo world hello world hello world hello world hello world hello world hello world hello world hello woo world hello world hello world hello world hello world hello world hello world hello world hello woo world hello world hello world hello world hello world hello world hello world hello world hello woo world hello world hello world hello world hello world hello world hello world hello world hello woo world hello world hello world hello world hello world hello world hello world hello world hello woo world hello world hello world hello world hello world hello world hello world hello world hello woo world hello world hello world hello world hello world hello world hello world hello world hello woo world hello world hello world hello world hello world hello world hello world hello world hello woo world hello world hello world hello world hello world hello world hello world hello world hello woo world hello world hello world hello world hello world hello world hello world hello world hello woo world hello world hello world hello world hello world hello world hello world hello world hello woo world hello world hello world hello world hello world hello world hello world hello world hello woo world hello world hello world hello world hello world hello world hello world hello world hello woo world hello world hello world hello world hello world hello world hello world hello world hello woo world hello world hello world hello world hello world hello world hello world hello world hello woo world hello world hello world hello world hello world hello world hello world hello world hello woo world hello world hello world hello world hello world hello world hello world hello world hello woo world hello world hello world hello world hello world hello world hello world hello world hello woo world hello world hello world hello world hello world hello world hello world hello world hello woo world hello world hello world hello world hello world hello world hello world hello world hello woo world hello world hello world hello world hello world hello world hello world hello world hello woo world hello world hello world hello world hello world hello world hello world hello world hello woo world hello world hello world hello world hello world hello world hello world hello world hello woo world hello world hello world hello world hello world hello world hello world hello world hello woo world hello world hello world hello world hello world hello world hello world hello world hello woo world hello world hello world hello world hello world hello world hello world hello world hello woo world hello world hello world hello world hello world hello world hello world hello world hello woo world hello world hello world hello world hello world hello world hello world hello world hello woo world hello world hello world hello world hello world hello world hello world hello world hello woo world hello world hello world hello world hello world hello world hello world hello world hello woo world hello world hello world hello world hello world hello world hello world hello world hello woo world hello world hello world hello world hello world hello world hello world hello world hello woo world hello world hello world hello world hello world hello world hello world hello world hello woo world hello world hello world hello world hello world hello world hello world hello world hello woo world hello world hello world hello world hello world hello world hello world hello world hello woo world hello world hello world hello world hello world hello world hello world hello world hello woo world hello world hello world hello world hello world hello world hello world hello world hello woo world hello world hello world hello world hello world hello world hello world hello world hello woo world hello world hello world hello world hello world hello world hello world hello world hello woo world hello world hello world hello world hello world hello world hello world hello world hello woo world hello world hello world hello world hello world hello world hello world hello world hello woo world hello world hello world hello world hello world hello world hello world hello world hello woo world hello world hello world hello world hello world hello world hello world hello world hello woo world hello world hello world hello world hello world hello world hello world hello world hello woo world hello world hello world hello world hello world hello world hello world hello world hello woo world hello world hello world hello world hello world hello world hello world hello world hello woo world hello world hello world hello world hello world hello world hello world hello world hello woo world hello world hello world hello world hello world hello world hello world hello world hello woo world hello world hello world hello world hello world hello world hello world hello world hello woo world hello world hello world hello world hello world hello world hello world hello world hello woo world hello world hello world hello world hello world hello world hello world hello world hello woo world hello world hello world hello world hello world hello world hello world hello world hello woo world hello world hello world hello world hello world hello world hello world hello world hello woo world hello world hello world hello world hello world hello world hello world hello world hello woo world hello world hello world hello world hello world hello world hello world hello world hello woo world hello world hello world hello world hello world hello world hello world hello world hello woo world hello world hello world hello world hello world hello world hello world hello world hello woo world hello world hello world hello world hello world hello world hello world hello world hello woo world hello world hello world hello world hello world hello world hello world hello world hello woo world hello world hello world hello world hello world hello world hello world hello world hello woo world hello world hello world hello world hello world hello world hello world hello world hello woo world hello world hello world hello world hello world hello world hello world hello world hello woo world hello world hello world hello world hello world hello world hello world hello world hello woo world hello world hello world hello world hello world hello world hello world hello world hello woo world hello world hello world hello world hello world hello world hello world hello world hello woo world hello world hello world hello world hello world hello world hello world hello world hello woo world hello world hello world hello world hello world hello world hello world hello world hello woo world hello world hello world hello world hello world hello world hello world hello world hello woo world hello world hello world hello world hello world hello world hello world hello world hello woo world hello world hello world hello world hello world hello world hello world hello world hello woo world hello world hello world hello world hello world hello world hello world hello world hello woo world hello world hello world hello world hello world hello world hello world hello world hello woo world hello world hello world hello world hello world hello world hello world hello world hello woo world hello world hello world hello world hello world hello world hello world hello world hello woo world hello world hello world hello world hello world hello world hello world hello world hello woo world hello world hello world hello world hello world hello world hello world hello world hello woo world hello world hello world hello world hello world hello world hello world hello world hello woo world hello world hello world hello world hello world hello world hello world hello world hello woo world hello world hello world hello world hello world hello world hello world hello world hello woo world hello world hello world hello world hello world hello world hello world hello world hello woo world hello world hello world hello world hello world hello world hello world hello world hello woo world hello world hello world hello world hello world hello world hello world hello world hello woo world hello world hello world hello world hello world hello world hello world hello world hello woo world hello world hello world hello world hello world hello world hello world hello world hello woo world hello world hello world hello world hello world hello world hello world hello world hello woo world hello world hello world hello world hello world hello world hello world hello world hello woo world hello world hello world hello world hello world hello world hello world hello world hello woo world hello world hello world hello world hello world hello world hello world hello world hello woo world hello world hello world hello world hello world hello world hello world hello world hello woo world hello world hello world hello world hello world hello world hello world hello world hello woo world hello world hello world hello world hello world hello world hello world hello world hello woo world hello world hello world hello world hello world hello world hello world hello world hello woo world hello world hello world hello world hello world hello world hello world hello world hello woo world hello world hello world hello world hello world hello world hello world hello world hello woo world hello world hello world hello world hello world hello world hello world hello world hello woo world hello world hello world hello world hello world hello world hello world hello world hello woo world hello world hello world hello world hello world hello world hello world hello world hello woo world hello world hello world hello world hello world hello world hello world hello world hello woo world hello world hello world hello world hello world hello world hello world hello world hello woo world hello world hello world hello world hello world hello world hello world hello world hello woo world hello world hello world hello world hello world hello world hello world hello world hello woo world hello world hello world hello world hello world hello world hello world hello world hello woo world hello world hello world hello world hello world hello world hello world hello world hello woo world hello world hello world hello world hello world hello world hello world hello world hello woo world hello world hello world hello world hello world hello world hello world hello world hello woo world hello world hello world hello world hello world hello world hello world hello world hello woo world hello world hello world hello world hello world hello world hello world hello world hello woo world hello world hello world hello world hello world hello world hello world hello world hello woo world hello world hello world hello world hello world hello world hello world hello world hello woo world hello world hello world hello world hello world hello world hello world hello world hello woo world hello world hello world hello world hello world hello world hello world hello world hello woo world hello world hello world hello world hello world hello world hello world hello world hello woo world hello world hello world hello world hello world hello world hello world hello world hello woo world hello world hello world hello world hello world hello world hello world hello world hello woo world hello world hello world hello world hello world hello world hello world hello world hello woo world hello world hello world hello world hello world hello world hello world hello world hello woo world hello world hello world hello world hello world hello world hello world hello world hello woo world hello world hello world hello world hello world hello world hello world hello world hello woo world hello world hello world hello world hello world hello world hello world hello world hello woo world hello world hello world hello world hello world hello world hello world hello world hello woo world hello world hello world hello world hello world hello world hello world hello world hello woo world hello world hello world hello world hello world hello world hello world hello world hello woo world hello world hello world hello world hello world hello world hello world hello world hello woo world hello world hello world hello world hello world hello world hello world hello world hello woo world hello world hello world hello world hello world hello world hello world hello world hello woo world hello world hello world hello world hello world hello world hello world hello world hello woo world hello world hello world hello world hello world hello world hello world hello world hello woo world hello world hello world hello world hello world hello world hello world hello world hello woo world hello world hello world hello world hello world hello world hello world hello world hello woo world hello world hello world hello world hello world hello world hello world hello world hello woo world hello world hello world hello world hello world hello world hello world hello world hello woo world hello world hello world hello world hello world hello world hello world hello world hello woo world hello world hello world hello world hello world hello world hello world hello world hello woo world hello world hello world hello world hello world hello world hello world hello world hello woo world hello world hello world hello world hello world hello world hello world hello world hello woo world hello world hello world hello world hello world hello world hello world hello world hello woo world hello world hello world hello world hello world hello world hello world hello world hello woo world hello world hello world hello world hello world hello world hello world hello world hello woo world hello world hello world hello world hello world hello world hello world hello world hello woo world hello world hello world hello world hello world hello world hello world hello world hello woo world hello world hello world hello world hello world hello world hello world hello world hello woo world hello world hello world hello world hello world hello world hello world hello world hello woo world hello world hello world hello world hello world hello world hello world hello world hello woo world hello world hello world hello world hello world hello world hello world hello world hello woo world hello world hello world hello world hello world hello world hello world hello world hello woo world hello world hello world hello world hello world hello world hello world hello world hello woo world hello world hello world hello world hello world hello world hello world hello world hello woo world hello world hello world hello world hello world hello world hello world hello world hello woo world hello world hello world hello world hello world hello world hello world hello world hello woo world hello world hello world hello world hello world hello world hello world hello world hello woo world hello world hello world hello world hello world hello world hello world hello world hello woo world hello world hello world hello world hello world hello world hello world hello world hello woo world hello world hello world hello world hello world hello world hello world hello world hello woo world hello world hello world hello world hello world hello world hello world hello world hello woo world hello world hello world hello world hello world hello world hello world hello world hello woo world hello world hello world hello world hello world hello world hello world hello world hello woo world hello world hello world hello world hello world hello world hello world hello world hello woo world hello world hello world hello world hello world hello world hello world hello world hello woo world hello world hello world hello world hello world hello world hello world hello world hello woo world hello world hello world hello world hello world hello world hello world hello world hello woo world hello world hello world hello world hello world hello world hello world hello world hello woo world hello world hello world hello world hello world hello world hello world hello world hello woo world hello world hello world hello world hello world hello world hello world hello world hello woo world hello world hello world hello world hello world hello world hello world hello world hello woo world hello world hello world hello world hello world hello world hello world hello world hello woo world hello world hello world hello world hello world hello world hello world hello world hello woo world hello world hello world hello world hello world hello world hello world hello world hello woo world hello world hello world hello world hello world hello world hello world hello world hello woo world hello world hello world hello world hello world hello world hello world hello world hello woo world hello world hello world hello world hello world hello world hello world hello world hello woo world hello world hello world hello world hello world hello world hello world hello world hello woo world hello world hello world hello world hello world hello world hello world hello world hello woo world hello world hello world hello world hello world hello world hello world hello world hello woo world hello world hello world hello world hello world hello world hello world hello world hello woo world hello world hello world hello world hello world hello world hello world hello world hello woo world hello world hello world hello world hello world hello world hello world hello world hello woo world hello world hello world hello world hello world hello world hello world hello world hello woo world hello world hello world hello world hello world hello world hello world hello world hello woo world hello world hello world hello world hello world hello world hello world hello world hello woo world hello world hello world hello world hello world hello world hello world hello world hello woo world hello world hello world hello world hello world hello world hello world hello world hello woo world hello world hello world hello world hello world hello world hello world hello world hello woo world hello world hello world hello world hello world hello world hello world hello world hello woo world hello world hello world hello world hello world hello world hello world hello world hello woo world hello world hello world hello world hello world hello world hello world hello world hello woo world hello world hello world hello world hello world hello world hello world hello world hello woo world hello world hello world hello world hello world hello world hello world hello world hello woo world hello world hello world hello world hello world hello world hello world hello world hello woo world hello world hello world hello world hello world hello world hello world hello world hello woo world hello world hello world hello world hello world hello world hello world hello world hello woo world hello world hello world hello world hello world hello world hello world hello world hello woo world hello world hello world hello world hello world hello world hello world hello world hello woo world hello world hello world hello world hello world hello world hello world hello world hello woo world hello world hello world hello world hello world hello world hello world hello world hello woo world hello world hello world hello world hello world hello world hello world hello world hello woo world hello world hello world hello world hello world hello world hello world hello world hello woo world hello world hello world hello world hello world hello world hello world hello world hello woo world hello world hello world hello world hello world hello world hello world hello world hello woo world hello world hello world hello world hello world hello world hello world hello world hello woo world hello world hello world hello world hello world hello world hello world hello world hello woo world hello world hello world hello world hello world hello world hello world hello world hello woo world hello world hello world hello world hello world hello world hello world hello world hello woo world hello world hello world hello world hello world hello world hello world hello world hello woo world hello world hello world hello world hello world hello world hello world hello world hello woo world hello world hello world hello world hello world hello world hello world hello world hello woo world hello world hello world hello world hello world hello world hello world hello world hello woo world hello world hello world hello world hello world hello world hello world hello world hello woo world hello world hello world hello world hello world hello world hello world hello world hello woo world hello world hello world hello world hello world hello world hello world hello world hello woo world hello world hello world hello world hello world hello world hello world hello world hello woo world hello world hello world hello world hello world hello world hello world hello world hello woo world hello world hello world hello world hello world hello world hello world hello world hello woo world hello world hello world hello world hello world hello world hello world hello world hello woo world hello world hello world hello world hello world hello world hello world hello world hello woo world hello world hello world hello world hello world hello world hello world hello world hello woo world hello world hello world hello world hello world hello world hello world hello world hello woo world hello world hello world hello world hello world hello world hello world hello world hello woo world hello world hello world hello world hello world hello world hello world hello world hello woo world hello world hello world hello world hello world hello world hello world hello world hello woo world hello world hello world hello world hello world hello world hello world hello world hello woo world hello world hello world hello world hello world hello world hello world hello world hello woo world hello world hello world hello world hello world hello world hello world hello world hello woo world hello world hello world hello world hello world hello world hello world hello world hello woo world hello world hello world hello world hello world hello world hello world hello world hello woo world hello world hello world hello world hello world hello world hello world hello world hello woo world hello world hello world hello world hello world hello world hello world hello world hello woo world hello world hello world hello world hello world hello world hello world hello world hello woo world hello world hello world hello world hello world hello world hello world hello world hello woo world hello world hello world hello world hello world hello world hello world hello world hello woo world hello world hello world hello world hello world hello world hello world hello world hello woo world hello world hello world hello world hello world hello world hello world hello world hello woo world hello world hello world hello world hello world hello world hello world hello world hello woo world hello world hello world hello world hello world hello world hello world hello world hello woo world hello world hello world hello world hello world hello world hello world hello world hello woo world hello world hello world hello world hello world hello world hello world hello world hello woo world hello world hello world hello world hello world hello world hello world hello world hello woo world hello world hello world hello world hello world hello world hello world hello world hello woo world hello world hello world hello world hello world hello world hello world hello world hello woo world hello world hello world hello world hello world hello world hello world hello world hello woo world hello world hello world hello world hello world hello world hello world hello world hello woo world hello world hello world hello world hello world hello world hello world hello world hello woo world hello world hello world hello world hello world hello world hello world hello world hello woo world hello world hello world hello world hello world hello world hello world hello world hello woo world hello world hello world hello world hello world hello world hello world hello world hello woo world hello world hello world hello world hello world hello world hello world hello world hello woo world hello world hello world hello world hello world hello world hello world hello world hello woo world hello world hello world hello world hello world hello world hello world hello world hello woo world hello world hello world hello world hello world hello world hello world hello world hello woo world hello world hello world hello world hello world hello world hello world hello world hello woo world hello world hello world hello world hello world hello world hello world hello world hello woo world hello world hello world hello world hello world hello world hello world hello world hello woo world hello world hello world hello world hello world hello world hello world hello world hello woo world hello world hello world hello world hello world hello world hello world hello world hello woo world hello world hello world hello world hello world hello world hello world hello world hello woo world hello world hello world hello world hello world hello world hello world hello world hello woo world hello world hello world hello world hello world hello world hello world hello world hello woo world hello world hello world hello world hello world hello world hello world hello world hello woo world hello world hello world hello world hello world hello world hello world hello world hello woo world hello world hello world hello world hello world hello world hello world hello world hello woo world hello world hello world hello world hello world hello world hello world hello world hello woo world hello world hello world hello world hello world hello world hello world hello world hello woo world hello world hello world hello world hello world hello world hello world hello world hello woo world hello world hello world hello world hello world hello world hello world hello world hello woo world hello world hello world hello world hello world hello world hello world hello world hello woo world hello world hello world hello world hello world hello world hello world hello world hello woo world hello world hello world hello world hello world hello world hello world hello world hello woo world hello world hello world hello world hello world hello world hello world hello world hello wo"
          ]
        }
      ]
    },
    {
      "cell_type": "code",
      "source": [
        "#  seek and tell function\n",
        "\n",
        "with open('/content/sample1.txt','r') as f:\n",
        "  print(f.read(10))\n",
        "  print(f.tell())\n",
        "  f.seek(7)\n",
        "  print(f.read(10))\n",
        "  print(f.tell())"
      ],
      "metadata": {
        "colab": {
          "base_uri": "https://localhost:8080/"
        },
        "id": "sMGyf0kwvfCw",
        "outputId": "d01e5dc1-27de-46e9-93bc-a7526f77d44d"
      },
      "execution_count": 37,
      "outputs": [
        {
          "output_type": "stream",
          "name": "stdout",
          "text": [
            "Hello worl\n",
            "10\n",
            "orld\n",
            "how a\n",
            "17\n"
          ]
        }
      ]
    },
    {
      "cell_type": "code",
      "source": [
        "# serialization using json module\n",
        "import json\n",
        "l = [1,2,3,4,5]\n",
        "with open('demo.json','w') as f:\n",
        "  json.dump(l,f)"
      ],
      "metadata": {
        "id": "ntmPcxcbyIW0"
      },
      "execution_count": 41,
      "outputs": []
    },
    {
      "cell_type": "code",
      "source": [
        "# dict\n",
        "d = {\n",
        "    'name':'nikesh','age':'29','gender':'male'\n",
        "}\n",
        "\n",
        "with open('dict.json','w') as f:\n",
        "  json.dump(d,f,indent=3)"
      ],
      "metadata": {
        "id": "xRV1gAidyqSv"
      },
      "execution_count": 45,
      "outputs": []
    },
    {
      "cell_type": "code",
      "source": [
        "with open('dict.json','r') as f:\n",
        "  d = json.load(f)\n",
        "  print(d)\n",
        "  print(type(d))"
      ],
      "metadata": {
        "colab": {
          "base_uri": "https://localhost:8080/"
        },
        "id": "8nPrMpukzhXZ",
        "outputId": "a8431bd8-787f-4b1d-c911-0ec4d54df49f"
      },
      "execution_count": 46,
      "outputs": [
        {
          "output_type": "stream",
          "name": "stdout",
          "text": [
            "{'name': 'nikesh', 'age': '29', 'gender': 'male'}\n",
            "<class 'dict'>\n"
          ]
        }
      ]
    },
    {
      "cell_type": "markdown",
      "source": [
        "###Pickle Vs json\n",
        "- pickle lets the user to store data  in binary format\n",
        "- json lets the user store data in human readable text format"
      ],
      "metadata": {
        "id": "sMTligIUHSjG"
      }
    },
    {
      "cell_type": "code",
      "source": [
        "class Person:\n",
        "  def __init__(self,name,age):\n",
        "    self.name = name\n",
        "    self.age = age\n",
        "\n",
        "  def display_info(self):\n",
        "    print(f'Hi my name is {self.name} and i am {self.name} year old')\n",
        ""
      ],
      "metadata": {
        "id": "NqSx2L0AH4RX"
      },
      "execution_count": 8,
      "outputs": []
    },
    {
      "cell_type": "code",
      "source": [
        "p = Person('nikesh',33)\n",
        "print(p)"
      ],
      "metadata": {
        "colab": {
          "base_uri": "https://localhost:8080/"
        },
        "id": "6_i-Q9JcJQHp",
        "outputId": "05acff7d-3619-4f9e-bdbe-d97d39ffb55b"
      },
      "execution_count": 12,
      "outputs": [
        {
          "output_type": "stream",
          "name": "stdout",
          "text": [
            "<__main__.Person object at 0x7f6759273a90>\n"
          ]
        }
      ]
    },
    {
      "cell_type": "code",
      "source": [
        "# pickle dump\n",
        "import pickle\n",
        "with open('person.pkl','wb') as f:\n",
        "  pickle.dump(p,f)"
      ],
      "metadata": {
        "id": "Fev8_HzyJbzo"
      },
      "execution_count": 13,
      "outputs": []
    },
    {
      "cell_type": "code",
      "source": [
        "# pickle load\n",
        "with open('person.pkl','rb') as f:\n",
        "  p = pickle.load(f)\n",
        "\n",
        "p.display_info()"
      ],
      "metadata": {
        "colab": {
          "base_uri": "https://localhost:8080/"
        },
        "id": "wwJ8xuK3LTQK",
        "outputId": "54e3b9bb-9cbf-4942-d939-1d92e5815668"
      },
      "execution_count": 14,
      "outputs": [
        {
          "output_type": "stream",
          "name": "stdout",
          "text": [
            "Hi my name is nikesh and i am nikesh year old\n"
          ]
        }
      ]
    }
  ]
}