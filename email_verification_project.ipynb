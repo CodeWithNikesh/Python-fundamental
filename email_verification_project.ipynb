{
  "nbformat": 4,
  "nbformat_minor": 0,
  "metadata": {
    "colab": {
      "provenance": [],
      "authorship_tag": "ABX9TyP7iWrb467CwxzeWG0bMamU",
      "include_colab_link": true
    },
    "kernelspec": {
      "name": "python3",
      "display_name": "Python 3"
    },
    "language_info": {
      "name": "python"
    }
  },
  "cells": [
    {
      "cell_type": "markdown",
      "metadata": {
        "id": "view-in-github",
        "colab_type": "text"
      },
      "source": [
        "<a href=\"https://colab.research.google.com/github/nikesh11xx/Python-fundamental/blob/main/email_verification_project.ipynb\" target=\"_parent\"><img src=\"https://colab.research.google.com/assets/colab-badge.svg\" alt=\"Open In Colab\"/></a>"
      ]
    },
    {
      "cell_type": "markdown",
      "source": [
        "## Summary:\n",
        "This project aimed to create a simple email verification function in Python. The function checks various aspects of an email address, including its length, format, and character composition, to determine its validity. It prompts the user to enter an email address and then validates it using the defined function."
      ],
      "metadata": {
        "id": "wC9sZhqOxBDd"
      }
    },
    {
      "cell_type": "markdown",
      "source": [
        "## Problem Statement:\n",
        "\n",
        "- Create a Python function that checks if an email address is valid or not. It should take an email address as input and return either \"True\" if the email is valid or \"False\" if it's not. The function needs to check specific things about the email address to make sure it's valid.\n",
        "\n",
        "- Length Check: The email address must have a minimum length of 6 characters.\n",
        "- First Character Check: The first character of the email address must be an alphabetic character.\n",
        "- '@' Symbol Check: The email address must contain exactly one '@' symbol.\n",
        "- Domain Check: The domain part of the email address must end with either '.com', '.net', or '.org'\n",
        "- Whitespace Check: The email address must not contain any whitespace characters.\n",
        "- Uppercase Check: The email address must not contain any uppercase letters.\n",
        "- Special Character Check: The email address may only contain the following special characters: '_', '.', and '@'.\n",
        "- Numeric Check: The email address may contain numeric characters, but it should not consist entirely of digits."
      ],
      "metadata": {
        "id": "l2dHMi0ayty-"
      }
    },
    {
      "cell_type": "code",
      "execution_count": 26,
      "metadata": {
        "id": "QMMTp7PduIth"
      },
      "outputs": [],
      "source": [
        "def validate_email(email):\n",
        "    # Establish flags for validation conditions\n",
        "    has_space = has_special_char = False\n",
        "\n",
        "    # check if the email length is at least 6 characters\n",
        "    if len(email) >= 6:\n",
        "        # check if the first character is alphabetic\n",
        "        if email[0].isalpha():\n",
        "            # check if there is exactly one @ character in the email\n",
        "            if email.count('@') == 1:\n",
        "                # check if the last character represents a valid domain\n",
        "                if email.endswith('.com') or email.endswith('.net') or email.endswith('.org'):\n",
        "                    # Iterate over each character in the email\n",
        "                    for char in email:\n",
        "                        # check for whitespace\n",
        "                        if char.isspace():\n",
        "                            has_space = True\n",
        "                        # check for special characters\n",
        "                        elif char not in ['_', '.', '@'] and not char.isalnum():\n",
        "                            has_special_char = True\n",
        "\n",
        "                    # check if any invalid conditions were found during iteration\n",
        "                    if has_space or has_special_char:\n",
        "                        return 'Invalid email: Contains invalid character'\n",
        "                    else:\n",
        "                        return 'Valid email'\n",
        "                else:\n",
        "                    return 'Invalid email: Invalid domain'\n",
        "            else:\n",
        "                return 'Invalid email: More than one @ symbol'\n",
        "        else:\n",
        "            return 'Invalid Email: First character must be alphabetic'\n",
        "    else:\n",
        "        return 'Invalid email: Length of the email must be greater than or equal to 6'\n",
        "\n",
        "\n",
        "# Test the function\n",
        "print(validate_email('nikesh890@gmail.com'))\n"
      ]
    },
    {
      "cell_type": "markdown",
      "source": [
        "## Define the code to be saved"
      ],
      "metadata": {
        "id": "KwTUr7-T_qsk"
      }
    },
    {
      "cell_type": "code",
      "source": [
        "# Define the code to be saved\n",
        "code = \"\"\"\n",
        "def check_email(email):\n",
        "    # Establish flags for validation conditions\n",
        "    has_space = has_special_char = False\n",
        "\n",
        "    # check if the email length is at least 6 characters\n",
        "    if len(email) >= 6:\n",
        "        # check if the first character is alphabetic\n",
        "        if email[0].isalpha():\n",
        "            # check if there is exactly one @ character in the email\n",
        "            if email.count('@') == 1:\n",
        "                # check if the last character represents a valid domain\n",
        "                if email.endswith('.com') or email.endswith('.net') or email.endswith('.org'):\n",
        "                    # Iterate over each character in the email\n",
        "                    for char in email:\n",
        "                        # check for whitespace\n",
        "                        if char.isspace():\n",
        "                            has_space = True\n",
        "                        # check for special characters\n",
        "                        elif char not in ['_', '.', '@'] and not char.isalnum():\n",
        "                            has_special_char = True\n",
        "\n",
        "                    # check if any invalid conditions were found during iteration\n",
        "                    if has_space or has_special_char:\n",
        "                        return 'Invalid email: Contains invalid character'\n",
        "                    else:\n",
        "                        return 'Valid email'\n",
        "                else:\n",
        "                    return 'Invalid email: Invalid domain'\n",
        "            else:\n",
        "                return 'Invalid email: More than one @ symbol'\n",
        "        else:\n",
        "            return 'Invalid Email: First character must be alphabetic'\n",
        "    else:\n",
        "        return 'Invalid email: Length of the email must be greater than or equal to 6'\n",
        "\n",
        "\n",
        "\n",
        "\"\"\"\n",
        "\n",
        "\n",
        "# Import and test the function\n",
        "from email_validations import check_email\n",
        "\n",
        "# Test the function\n",
        "print(validate_email('nikesh890@gmail.com'))\n"
      ],
      "metadata": {
        "id": "Ex51d7rPuR0V",
        "colab": {
          "base_uri": "https://localhost:8080/"
        },
        "outputId": "f8491f9e-7f9a-4b36-f270-641f6672bb36"
      },
      "execution_count": 41,
      "outputs": [
        {
          "output_type": "stream",
          "name": "stdout",
          "text": [
            "Code saved to email_validator.py.\n"
          ]
        }
      ]
    },
    {
      "cell_type": "code",
      "source": [
        "# Save the code to a file named email_validation.py\n",
        "with open(\"email_validations.py\", \"w\") as file:\n",
        "    file.write(code)\n",
        "\n",
        "print(\"Code saved to email_validations.py.\")\n"
      ],
      "metadata": {
        "id": "UBIkyIXCqQIq"
      },
      "execution_count": 43,
      "outputs": []
    },
    {
      "cell_type": "code",
      "source": [
        "# Import and test the function\n",
        "from email_validations import check_email\n",
        "\n",
        "# Test the function\n",
        "print(validate_email('nikesh890@gmail.com'))"
      ],
      "metadata": {
        "colab": {
          "base_uri": "https://localhost:8080/"
        },
        "id": "IMwoKvbFxjvN",
        "outputId": "d5fbaea3-edce-42a2-e572-b2d0737c8939"
      },
      "execution_count": 58,
      "outputs": [
        {
          "output_type": "stream",
          "name": "stdout",
          "text": [
            "Valid email\n"
          ]
        }
      ]
    },
    {
      "cell_type": "markdown",
      "source": [
        "##Conclusion:\n",
        "In conclusion, we have successfully implemented a basic email verification function in Python. While this function covers some common aspects of email validation, it may not cover all possible edge cases or adhere strictly to email standards. Further refinement and validation checks could be added depending on the specific requirements of the project. Additionally, integrating this function into a larger application or system could provide valuable functionality for ensuring data integrity and user input validation.\n",
        "# by NIKESH SINGH"
      ],
      "metadata": {
        "id": "615vE416ACyl"
      }
    }
  ]
}